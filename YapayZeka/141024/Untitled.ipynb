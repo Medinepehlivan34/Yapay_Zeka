{
 "cells": [
  {
   "cell_type": "code",
   "execution_count": null,
   "id": "b5a8eff1-021d-48fd-830c-6414b92358d8",
   "metadata": {},
   "outputs": [],
   "source": [
    "import numpy as np\n"
   ]
  },
  {
   "cell_type": "code",
   "execution_count": 24,
   "id": "4ccc071f-80df-49d5-854a-2aec4018c1d0",
   "metadata": {},
   "outputs": [
    {
     "data": {
      "text/plain": [
       "(array([[5, 5, 5],\n",
       "        [5, 5, 5],\n",
       "        [5, 5, 5],\n",
       "        [5, 5, 5]]),)"
      ]
     },
     "execution_count": 24,
     "metadata": {},
     "output_type": "execute_result"
    }
   ],
   "source": [
    "dizi=np.full((4,3),5),\n",
    "dizi"
   ]
  },
  {
   "cell_type": "code",
   "execution_count": 4,
   "id": "2707beb8-6574-47fa-ab65-469c713d071a",
   "metadata": {},
   "outputs": [
    {
     "data": {
      "text/plain": [
       "array([1, 2, 3])"
      ]
     },
     "execution_count": 4,
     "metadata": {},
     "output_type": "execute_result"
    }
   ],
   "source": [
    "#Yeni bir numpy dizisi oluşturuyoruz.\n",
    "np.array([1,2,3])"
   ]
  },
  {
   "cell_type": "code",
   "execution_count": 6,
   "id": "c7fca613-51e7-4461-a588-b1f3ed873fde",
   "metadata": {},
   "outputs": [],
   "source": [
    "#Oluşturduğumuz diziyi bir değişkene aktarıyoruz\n",
    "dizi=np.array([\"Elma\",\"Erik\",\"İğde\"])"
   ]
  },
  {
   "cell_type": "code",
   "execution_count": 14,
   "id": "5478e0c5-1ac3-4b33-a42f-0a777a19d11e",
   "metadata": {},
   "outputs": [
    {
     "data": {
      "text/plain": [
       "array(['Elma', 'Erik', 'İğde'], dtype='<U4')"
      ]
     },
     "execution_count": 14,
     "metadata": {},
     "output_type": "execute_result"
    }
   ],
   "source": [
    "dizi"
   ]
  },
  {
   "cell_type": "code",
   "execution_count": 25,
   "id": "6c9cb19b-b11c-427d-8d90-ce78216390f1",
   "metadata": {},
   "outputs": [],
   "source": [
    "dizi=np.array([1,2,3])"
   ]
  },
  {
   "cell_type": "code",
   "execution_count": 26,
   "id": "5bb50c4d-cf31-4e82-b74c-7d4900c6b787",
   "metadata": {},
   "outputs": [],
   "source": [
    "dizi=np.array([1,2,3.14])"
   ]
  },
  {
   "cell_type": "code",
   "execution_count": 27,
   "id": "b3966102-9050-4b03-8619-ee043e8dbcdc",
   "metadata": {},
   "outputs": [
    {
     "data": {
      "text/plain": [
       "dtype('float64')"
      ]
     },
     "execution_count": 27,
     "metadata": {},
     "output_type": "execute_result"
    }
   ],
   "source": [
    "dizi.dtype #dizinin değişken türünü verir. numpy dizilerinde elemanların hepsi ayrı türdendir."
   ]
  },
  {
   "cell_type": "code",
   "execution_count": 28,
   "id": "ff079726-56a6-4a06-aeda-22ba3a28d953",
   "metadata": {},
   "outputs": [],
   "source": [
    "dizi=np.array([1,2,3.14], dtype=int)"
   ]
  },
  {
   "cell_type": "code",
   "execution_count": 29,
   "id": "5cf6c4c5-bff3-4bfd-b754-e42627015ae7",
   "metadata": {},
   "outputs": [],
   "source": [
    "#Bir boyutlu dizi oluşturma \n",
    "birboyut=np.array([1,2,3,4])\n",
    "#iki boyutlu dizi oluşturma \n",
    "ikiboyut=np.array([[1,2,3,4],[5,6,7,8],[9,10,11,12]])"
   ]
  },
  {
   "cell_type": "code",
   "execution_count": 30,
   "id": "d4abc8b0-8bf0-40a8-bb67-8f087b5f5943",
   "metadata": {},
   "outputs": [
    {
     "data": {
      "text/plain": [
       "array([1, 2, 3, 4])"
      ]
     },
     "execution_count": 30,
     "metadata": {},
     "output_type": "execute_result"
    }
   ],
   "source": [
    "birboyut"
   ]
  },
  {
   "cell_type": "code",
   "execution_count": 31,
   "id": "e99b4bed-bdb0-4974-91c1-100254101722",
   "metadata": {},
   "outputs": [
    {
     "data": {
      "text/plain": [
       "array([[ 1,  2,  3,  4],\n",
       "       [ 5,  6,  7,  8],\n",
       "       [ 9, 10, 11, 12]])"
      ]
     },
     "execution_count": 31,
     "metadata": {},
     "output_type": "execute_result"
    }
   ],
   "source": [
    "ikiboyut"
   ]
  },
  {
   "cell_type": "code",
   "execution_count": 32,
   "id": "d5a9814e-b338-46e8-9841-cdf6a6ec2901",
   "metadata": {},
   "outputs": [
    {
     "data": {
      "text/plain": [
       "array([0., 0., 0., 0., 0., 0., 0.])"
      ]
     },
     "execution_count": 32,
     "metadata": {},
     "output_type": "execute_result"
    }
   ],
   "source": [
    "np.zeros(7) #7 sıfırdan oluşan tek boyutlu dizi oluşturur."
   ]
  },
  {
   "cell_type": "code",
   "execution_count": 33,
   "id": "c9d5710f-e388-41e0-938c-3c762b65df24",
   "metadata": {},
   "outputs": [
    {
     "data": {
      "text/plain": [
       "array([[0, 0, 0],\n",
       "       [0, 0, 0]])"
      ]
     },
     "execution_count": 33,
     "metadata": {},
     "output_type": "execute_result"
    }
   ],
   "source": [
    "np.zeros((2,3),dtype=int)#* sıfırdan oluşan iki boyutlu int dizi oluşturur"
   ]
  },
  {
   "cell_type": "code",
   "execution_count": 34,
   "id": "aace4e87-943b-439c-bac5-acc9abe0b734",
   "metadata": {},
   "outputs": [
    {
     "data": {
      "text/plain": [
       "array([1., 1., 1.])"
      ]
     },
     "execution_count": 34,
     "metadata": {},
     "output_type": "execute_result"
    }
   ],
   "source": [
    "np.ones(3)"
   ]
  },
  {
   "cell_type": "code",
   "execution_count": 35,
   "id": "48bc98ff-3d6d-44ee-b7df-36b860f639d1",
   "metadata": {},
   "outputs": [
    {
     "data": {
      "text/plain": [
       "array([[5, 5, 5],\n",
       "       [5, 5, 5],\n",
       "       [5, 5, 5],\n",
       "       [5, 5, 5]])"
      ]
     },
     "execution_count": 35,
     "metadata": {},
     "output_type": "execute_result"
    }
   ],
   "source": [
    "np.full((4,3),5)#başlangıc,bitiş ve artış değerine göre dizi oluşturma"
   ]
  },
  {
   "cell_type": "code",
   "execution_count": 36,
   "id": "c14d7408-b751-4614-8763-5051b836fd85",
   "metadata": {},
   "outputs": [
    {
     "data": {
      "text/plain": [
       "array([ 2,  7, 12, 17])"
      ]
     },
     "execution_count": 36,
     "metadata": {},
     "output_type": "execute_result"
    }
   ],
   "source": [
    "np.arange(2,22,5)#başlangıc,bitiş ve artış değerine göre dizi oluşturma"
   ]
  },
  {
   "cell_type": "code",
   "execution_count": 39,
   "id": "d5475cd8-0155-47ab-afed-e608bec5380a",
   "metadata": {},
   "outputs": [
    {
     "data": {
      "text/plain": [
       "array([ 2.        ,  3.33333333,  4.66666667,  6.        ,  7.33333333,\n",
       "        8.66666667, 10.        ])"
      ]
     },
     "execution_count": 39,
     "metadata": {},
     "output_type": "execute_result"
    }
   ],
   "source": [
    "np.linspace(2,10,num=7)#başlangıc ve bitiş aralığında belirtilen miktarda eşit aralık"
   ]
  },
  {
   "cell_type": "code",
   "execution_count": 42,
   "id": "cf932447-a0db-40a3-9464-4f7b694ee6b0",
   "metadata": {},
   "outputs": [
    {
     "data": {
      "text/plain": [
       "array([0, 7, 1, 5, 7])"
      ]
     },
     "execution_count": 42,
     "metadata": {},
     "output_type": "execute_result"
    }
   ],
   "source": [
    "np.random.randint(0,10,5)#0-10 aralığında rastgele 5 sayıdan oluşan bir boyutlu dizi"
   ]
  },
  {
   "cell_type": "code",
   "execution_count": 44,
   "id": "ad678465-2cd8-4e8d-98c4-f9a35f648ffc",
   "metadata": {},
   "outputs": [
    {
     "data": {
      "text/plain": [
       "array([[6, 0],\n",
       "       [5, 3],\n",
       "       [6, 5],\n",
       "       [4, 6],\n",
       "       [9, 5]])"
      ]
     },
     "execution_count": 44,
     "metadata": {},
     "output_type": "execute_result"
    }
   ],
   "source": [
    "np.random.randint(0,10,(5,2))#0-10 aralığında 5*2 rastgele sayıdan oluşan 2 boyutlu bir dizi"
   ]
  },
  {
   "cell_type": "code",
   "execution_count": 49,
   "id": "f06e52b3-f049-4ad2-8d5e-0d217902410b",
   "metadata": {},
   "outputs": [
    {
     "data": {
      "text/plain": [
       "(3, 4)"
      ]
     },
     "execution_count": 49,
     "metadata": {},
     "output_type": "execute_result"
    }
   ],
   "source": [
    "#dizilerin eleman sayısını öğrenmek için shape komutu kullanılır\n",
    "dizi=np.array([[1,2,3,4],[5,6,7,8,],[9,10,11,12]])\n",
    "dizi.shape"
   ]
  },
  {
   "cell_type": "code",
   "execution_count": 50,
   "id": "2ae23be4-ccf3-42f1-b01f-8ab8429009c5",
   "metadata": {},
   "outputs": [
    {
     "data": {
      "text/plain": [
       "2"
      ]
     },
     "execution_count": 50,
     "metadata": {},
     "output_type": "execute_result"
    }
   ],
   "source": [
    "#ndim dizi boyutunu öğrenmek için kullanılır\n",
    "dizi.ndim"
   ]
  },
  {
   "cell_type": "code",
   "execution_count": 51,
   "id": "4cd1c0e5-e54b-4820-8668-4795d4c8604e",
   "metadata": {},
   "outputs": [
    {
     "data": {
      "text/plain": [
       "12"
      ]
     },
     "execution_count": 51,
     "metadata": {},
     "output_type": "execute_result"
    }
   ],
   "source": [
    "#size dizideki toplam eleman sayısını gösterir\n",
    "dizi.size"
   ]
  },
  {
   "cell_type": "code",
   "execution_count": 52,
   "id": "a985f297-73e2-45db-b1c9-8727a4390a9e",
   "metadata": {},
   "outputs": [
    {
     "data": {
      "text/plain": [
       "4"
      ]
     },
     "execution_count": 52,
     "metadata": {},
     "output_type": "execute_result"
    }
   ],
   "source": [
    "#itemsize her bir elemanın bayt cinsinde değerini verir\n",
    "dizi.itemsize"
   ]
  },
  {
   "cell_type": "code",
   "execution_count": null,
   "id": "51cf508a-ae71-4e0f-8817-8f54bf996310",
   "metadata": {},
   "outputs": [],
   "source": []
  }
 ],
 "metadata": {
  "kernelspec": {
   "display_name": "Python 3 (ipykernel)",
   "language": "python",
   "name": "python3"
  },
  "language_info": {
   "codemirror_mode": {
    "name": "ipython",
    "version": 3
   },
   "file_extension": ".py",
   "mimetype": "text/x-python",
   "name": "python",
   "nbconvert_exporter": "python",
   "pygments_lexer": "ipython3",
   "version": "3.11.7"
  }
 },
 "nbformat": 4,
 "nbformat_minor": 5
}
