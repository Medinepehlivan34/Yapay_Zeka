{
 "cells": [
  {
   "cell_type": "code",
   "execution_count": 6,
   "id": "08ebb723-af83-4743-aa7b-0407d454fe2f",
   "metadata": {},
   "outputs": [],
   "source": [
    "import numpy as np #numpy np adı ile eklendi. \n",
    "np.array([1,2,3]) #np kullanarak liste oluşturuldu.\n",
    "a=np.array([1,2,3]) #a kullanarak liste oluşturuldu."
   ]
  },
  {
   "cell_type": "code",
   "execution_count": 12,
   "id": "cb110434-42c6-4a24-8a1e-ab5c06c2ecb1",
   "metadata": {},
   "outputs": [
    {
     "data": {
      "text/plain": [
       "<module 'numpy' from 'C:\\\\ProgramData\\\\anaconda3\\\\Lib\\\\site-packages\\\\numpy\\\\__init__.py'>"
      ]
     },
     "execution_count": 12,
     "metadata": {},
     "output_type": "execute_result"
    }
   ],
   "source": [
    "np"
   ]
  },
  {
   "cell_type": "code",
   "execution_count": 14,
   "id": "d045c9c4-4b75-4d3d-b343-8996aef1b696",
   "metadata": {},
   "outputs": [
    {
     "data": {
      "text/plain": [
       "array([1, 2, 3])"
      ]
     },
     "execution_count": 14,
     "metadata": {},
     "output_type": "execute_result"
    }
   ],
   "source": [
    "a"
   ]
  },
  {
   "cell_type": "code",
   "execution_count": 15,
   "id": "ba1084ff-d6a8-4937-a277-e74110e9d5f4",
   "metadata": {},
   "outputs": [
    {
     "data": {
      "text/plain": [
       "array([[1, 2, 3],\n",
       "       [4, 5, 6]])"
      ]
     },
     "execution_count": 15,
     "metadata": {},
     "output_type": "execute_result"
    }
   ],
   "source": [
    "birboyut=np.array([1,2,3]) #bir boyutlu liste oluşturuldu.\n",
    "birboyut\n",
    "ikiboyut = np.array([[1,2,3], [4,5,6]]) #bir boyutlu liste oluşturuldu.\n",
    "ikiboyut"
   ]
  },
  {
   "cell_type": "code",
   "execution_count": null,
   "id": "dc889f8c-7b92-45bb-adb7-709293a050a2",
   "metadata": {},
   "outputs": [],
   "source": [
    "np.zeros(5) #y zeros fonksiyonunu kullanarak sıfırlardan liste oluşturuldu.\n",
    "np.zeros((4,3)) \n",
    "np.zeros((4,3),dtype=int)\n",
    "np.ones(5)#ones fonksiyonunu kullanarak birlerden oluşan NumPy dizisi oluşturuldu.\n",
    "np.ones((4,3))\n",
    "np.ones((4,3),dtype=int)\n",
    "np.full((4,3),10) #full fonksiyonunu kullanarak belirlenen sayıdan oluşan NumPy dizisi oluşturuldu.\n",
    "np.arange(1,30,2) #arrange fonksiyonunu kullanarak başlangıç, bitiş ve artış değerlerinden oluşan NumPy dizisi oluşturuldu.\n",
    "np.linspace(0, 10, num=5) #linspace fonksiyonunu kullanarak belirli bir aralıkta eşit aralıklı sayılardan oluşan NumPy dizisi oluşturuldu.\n",
    "np.random.randint(0,10,5) #random fonksiyonunu kullanarak belirli bir aralıkta rastgele sayılardan oluşan NumPy dizisi oluşturuldu.\n",
    "np.random.randint(0,10,(4,3))"
   ]
  }
 ],
 "metadata": {
  "kernelspec": {
   "display_name": "Python 3 (ipykernel)",
   "language": "python",
   "name": "python3"
  },
  "language_info": {
   "codemirror_mode": {
    "name": "ipython",
    "version": 3
   },
   "file_extension": ".py",
   "mimetype": "text/x-python",
   "name": "python",
   "nbconvert_exporter": "python",
   "pygments_lexer": "ipython3",
   "version": "3.11.7"
  }
 },
 "nbformat": 4,
 "nbformat_minor": 5
}
